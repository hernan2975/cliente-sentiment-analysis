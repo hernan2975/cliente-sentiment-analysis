# 📦 Importaciones
import pandas as pd
import matplotlib.pyplot as plt
from wordcloud import WordCloud
import seaborn as sns
import os

# 📁 Carga de datos procesados
df = pd.read_csv("data/processed/sentimiento_nltk.csv")

# 📊 1. Distribución de sentimiento
plt.figure(figsize=(6, 4))
df['sentimiento'].value_counts().plot(kind='bar', color='teal')
plt.title("Distribución de Sentimiento (NLTK)")
plt.xlabel("Sentimiento")
plt.ylabel("Cantidad")
plt.tight_layout()

# 💾 Exportar gráfico
os.makedirs("dashboards/exports", exist_ok=True)
plt.savefig("dashboards/exports/distribucion_sentimiento.png")
plt.show()

# ☁️ 2. Nube de palabras
texto = ' '.join(df['texto_limpio'])
wc = WordCloud(width=800, height=400, background_color="white", colormap='Dark2').generate(texto)

plt.figure(figsize=(10, 5))
plt.imshow(wc, interpolation="bilinear")
plt.axis("off")
plt.title("Nube de Palabras - Comentarios")
plt.tight_layout()

# 💾 Exportar gráfico
plt.savefig("dashboards/exports/nube_palabras_clientes.png")
plt.show()

# 📈 3. Tendencia temporal (si tenés fecha)
# Suponiendo que el archivo incluye columna 'fecha'
if 'fecha' in df.columns:
    df['fecha'] = pd.to_datetime(df['fecha'], errors='coerce')
    tendencia = df.groupby([df['fecha'].dt.to_period("M"), 'sentimiento']).size().unstack().fillna(0)

    tendencia.plot(kind='line', marker='o', figsize=(8, 4))
    plt.title("Tendencia de Sentimiento por Mes")
    plt.xlabel("Mes")
    plt.ylabel("Cantidad")
    plt.tight_layout()

    # 💾 Exportar gráfico
    plt.savefig("dashboards/exports/tendencia_satisfaccion.pdf")
    plt.show()
else:
    print("[INFO] No se detectó columna 'fecha' para tendencia temporal.")
