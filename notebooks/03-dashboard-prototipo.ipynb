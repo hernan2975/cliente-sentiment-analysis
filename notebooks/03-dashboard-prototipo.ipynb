
import pandas as pd
import matplotlib.pyplot as plt
from wordcloud import WordCloud

df = pd.read_csv("data/processed/sentimiento_nltk.csv")

# 🔹 Distribución de sentimiento
df['sentimiento'].value_counts().plot(kind='bar', color='teal')
plt.title("Distribución de Sentimiento (NLTK)")
plt.show()

# 🔹 Nube de palabras
texto_total = ' '.join(df['texto_limpio'])
wc = WordCloud(width=800, height=400, background_color="white").generate(texto_total)
plt.imshow(wc, interpolation="bilinear")
plt.axis("off")
plt.title("Nube de Palabras - Comentarios")
plt.show()

# 🔹 Exportación visual
plt.savefig("dashboards/exports/distribucion_sentimiento.png")
