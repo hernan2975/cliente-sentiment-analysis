
# 🔹 Setup inicial
import pandas as pd
import seaborn as sns
import matplotlib.pyplot as plt
from src.etl.extract import load_csv
from src.etl.transform import transformar_dataframe

# 🔹 Carga y limpieza
df_raw = load_csv("data/raw/encuestas_originales.csv")
df_clean = transformar_dataframe(df_raw, columna_texto="comentario")

# 🔹 Estadísticas
print(df_clean['texto_limpio'].describe())
print(df_clean['texto_limpio'].str.len().describe())

# 🔹 Visualizaciones
sns.histplot(df_clean['texto_limpio'].str.len(), bins=10)
plt.title("Distribución de longitud de comentarios")
plt.show()

# 🔹 Exportación
df_clean.to_csv("data/processed/encuestas_limpias.csv", index=False)
